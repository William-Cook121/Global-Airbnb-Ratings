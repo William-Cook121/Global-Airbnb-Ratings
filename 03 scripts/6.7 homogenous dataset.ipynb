{
 "cells": [
  {
   "cell_type": "markdown",
   "id": "19cd77ae",
   "metadata": {},
   "source": [
    "Import Libraries"
   ]
  },
  {
   "cell_type": "code",
   "execution_count": 1,
   "id": "0930d2ab",
   "metadata": {},
   "outputs": [],
   "source": [
    "import pandas as pd\n",
    "import numpy as np\n",
    "import seaborn as sns\n",
    "import matplotlib\n",
    "import matplotlib.pyplot as plt\n",
    "import os\n",
    "import sklearn\n",
    "from sklearn.cluster import KMeans # Here is where you import the k-means algorithm from scikit-learn.\n",
    "import pylab as pl # PyLab is a convenience module that bulk imports matplotlib.\n",
    "import folium\n",
    "import json"
   ]
  },
  {
   "cell_type": "code",
   "execution_count": 3,
   "id": "26d67bb8",
   "metadata": {},
   "outputs": [
    {
     "name": "stdout",
     "output_type": "stream",
     "text": [
      "Requirement already satisfied: folium in c:\\users\\18179\\anaconda3\\lib\\site-packages (0.12.1)\n",
      "Requirement already satisfied: numpy in c:\\users\\18179\\anaconda3\\lib\\site-packages (from folium) (1.20.1)\n",
      "Requirement already satisfied: jinja2>=2.9 in c:\\users\\18179\\anaconda3\\lib\\site-packages (from folium) (2.11.3)\n",
      "Requirement already satisfied: requests in c:\\users\\18179\\anaconda3\\lib\\site-packages (from folium) (2.25.1)\n",
      "Requirement already satisfied: branca>=0.3.0 in c:\\users\\18179\\anaconda3\\lib\\site-packages (from folium) (0.4.2)\n",
      "Requirement already satisfied: MarkupSafe>=0.23 in c:\\users\\18179\\anaconda3\\lib\\site-packages (from jinja2>=2.9->folium) (1.1.1)\n",
      "Requirement already satisfied: certifi>=2017.4.17 in c:\\users\\18179\\anaconda3\\lib\\site-packages (from requests->folium) (2020.12.5)\n",
      "Requirement already satisfied: urllib3<1.27,>=1.21.1 in c:\\users\\18179\\anaconda3\\lib\\site-packages (from requests->folium) (1.26.4)\n",
      "Requirement already satisfied: idna<3,>=2.5 in c:\\users\\18179\\anaconda3\\lib\\site-packages (from requests->folium) (2.10)\n",
      "Requirement already satisfied: chardet<5,>=3.0.2 in c:\\users\\18179\\anaconda3\\lib\\site-packages (from requests->folium) (4.0.0)\n",
      "Note: you may need to restart the kernel to use updated packages.\n"
     ]
    }
   ],
   "source": [
    "pip install folium"
   ]
  },
  {
   "cell_type": "code",
   "execution_count": 4,
   "id": "9d02c02e",
   "metadata": {},
   "outputs": [],
   "source": [
    "%matplotlib inline"
   ]
  },
  {
   "cell_type": "code",
   "execution_count": 5,
   "id": "7db1471f",
   "metadata": {},
   "outputs": [
    {
     "name": "stderr",
     "output_type": "stream",
     "text": [
      "C:\\Users\\18179\\anaconda3\\lib\\site-packages\\IPython\\core\\interactiveshell.py:3165: DtypeWarning: Columns (5,13) have mixed types.Specify dtype option on import or set low_memory=False.\n",
      "  has_raised = await self.run_ast_nodes(code_ast.body, cell_name,\n"
     ]
    }
   ],
   "source": [
    "#import DF\n",
    "df_list = pd.read_csv(r\"C:\\Users\\18179\\Documents\\CareerFoundry\\Independent Project\\02 Data\\Raw Data\\Listings.csv\\Listings.csv\", index_col = False)"
   ]
  },
  {
   "cell_type": "code",
   "execution_count": 6,
   "id": "64ed4637",
   "metadata": {},
   "outputs": [],
   "source": [
    "#Import JSON\n",
    "\n",
    "country_geo = r\"C:\\Users\\18179\\Documents\\CareerFoundry\\Independent Project\\02 Data\\Raw Data\\custom.geo.json\""
   ]
  },
  {
   "cell_type": "markdown",
   "id": "6af808f9",
   "metadata": {},
   "source": [
    "Clean & wrangle Geo and listing files"
   ]
  },
  {
   "cell_type": "code",
   "execution_count": 7,
   "id": "a12f892d",
   "metadata": {},
   "outputs": [
    {
     "data": {
      "text/plain": [
       "Paris             64690\n",
       "New York          37012\n",
       "Sydney            33630\n",
       "Rome              27647\n",
       "Rio de Janeiro    26615\n",
       "Istanbul          24519\n",
       "Mexico City       20065\n",
       "Bangkok           19361\n",
       "Cape Town         19086\n",
       "Hong Kong          7087\n",
       "Name: city, dtype: int64"
      ]
     },
     "execution_count": 7,
     "metadata": {},
     "output_type": "execute_result"
    }
   ],
   "source": [
    "df_list['city'].value_counts()"
   ]
  },
  {
   "cell_type": "code",
   "execution_count": 8,
   "id": "ca82fce0",
   "metadata": {},
   "outputs": [],
   "source": [
    "#Create country column\n",
    "\n",
    "df_list.loc[df_list['city'] == 'Paris', 'country'] = 'France'\n",
    "df_list.loc[df_list['city'] == 'New York', 'country'] = 'United States of America'\n",
    "df_list.loc[df_list['city'] == 'Sydney', 'country'] = 'Australia'\n",
    "df_list.loc[df_list['city'] == 'Rome', 'country'] = 'Italy'\n",
    "df_list.loc[df_list['city'] == 'Rio de Janeiro', 'country'] = 'Brazil'\n",
    "df_list.loc[df_list['city'] == 'Istanbul', 'country'] = 'Turkey'\n",
    "df_list.loc[df_list['city'] == 'Mexico City', 'country'] = 'Mexico'\n",
    "df_list.loc[df_list['city'] == 'Bangkok', 'country'] = 'Thailand'\n",
    "df_list.loc[df_list['city'] == 'Cape Town', 'country'] = 'South Africa'\n",
    "df_list.loc[df_list['city'] == 'Hong Kong', 'country'] = 'China'"
   ]
  },
  {
   "cell_type": "code",
   "execution_count": 42,
   "id": "299cb6d3",
   "metadata": {},
   "outputs": [],
   "source": [
    "#Select necessary columns\n",
    "\n",
    "columns = ['price',\n",
    "           'host_total_listings_count',\n",
    "           'review_scores_rating',\n",
    "           'review_scores_accuracy',\n",
    "           'review_scores_cleanliness',\n",
    "           'review_scores_checkin',\n",
    "           'review_scores_location',\n",
    "           'review_scores_value',\n",
    "           'accommodates',\n",
    "           'latitude',\n",
    "           'longitude',\n",
    "          ]"
   ]
  },
  {
   "cell_type": "code",
   "execution_count": 43,
   "id": "98da8fae",
   "metadata": {},
   "outputs": [],
   "source": [
    "#create subset\n",
    "\n",
    "City_rev = df_list[columns]"
   ]
  },
  {
   "cell_type": "code",
   "execution_count": 44,
   "id": "26a53977",
   "metadata": {},
   "outputs": [
    {
     "data": {
      "text/plain": [
       "price                            0\n",
       "host_total_listings_count      165\n",
       "review_scores_rating         91405\n",
       "review_scores_accuracy       91713\n",
       "review_scores_cleanliness    91665\n",
       "review_scores_checkin        91771\n",
       "review_scores_location       91775\n",
       "review_scores_value          91785\n",
       "accommodates                     0\n",
       "latitude                         0\n",
       "longitude                        0\n",
       "dtype: int64"
      ]
     },
     "execution_count": 44,
     "metadata": {},
     "output_type": "execute_result"
    }
   ],
   "source": [
    "City_rev.isnull().sum()"
   ]
  },
  {
   "cell_type": "code",
   "execution_count": 45,
   "id": "7e68cca2",
   "metadata": {},
   "outputs": [
    {
     "name": "stderr",
     "output_type": "stream",
     "text": [
      "C:\\Users\\18179\\anaconda3\\lib\\site-packages\\pandas\\core\\series.py:4463: SettingWithCopyWarning: \n",
      "A value is trying to be set on a copy of a slice from a DataFrame\n",
      "\n",
      "See the caveats in the documentation: https://pandas.pydata.org/pandas-docs/stable/user_guide/indexing.html#returning-a-view-versus-a-copy\n",
      "  return super().fillna(\n"
     ]
    }
   ],
   "source": [
    "#impute missing values\n",
    "\n",
    "City_rev['host_total_listings_count'].fillna(City_rev['host_total_listings_count'].median(), inplace = True)\n",
    "City_rev['review_scores_rating'].fillna(City_rev['review_scores_rating'].median(), inplace = True)\n",
    "City_rev['review_scores_accuracy'].fillna(City_rev['review_scores_accuracy'].median(), inplace = True)\n",
    "City_rev['review_scores_cleanliness'].fillna(City_rev['review_scores_cleanliness'].median(), inplace = True)\n",
    "City_rev['review_scores_checkin'].fillna(City_rev['review_scores_checkin'].median(), inplace = True)\n",
    "City_rev['review_scores_location'].fillna(City_rev['review_scores_location'].median(), inplace = True)\n",
    "City_rev['review_scores_value'].fillna(City_rev['review_scores_value'].median(), inplace = True)"
   ]
  },
  {
   "cell_type": "code",
   "execution_count": 46,
   "id": "5efff266",
   "metadata": {},
   "outputs": [],
   "source": [
    "#Clean extreme values\n",
    "\n",
    "City_rev = City_rev[City_rev['price'] < 1000]"
   ]
  },
  {
   "cell_type": "markdown",
   "id": "10e4fd02",
   "metadata": {},
   "source": [
    "Elbow Technique"
   ]
  },
  {
   "cell_type": "code",
   "execution_count": 47,
   "id": "059536c2",
   "metadata": {},
   "outputs": [],
   "source": [
    "num_cl = range(1, 10) # Defines the range of potential clusters in the data.\n",
    "kmeans = [KMeans(n_clusters=i) for i in num_cl] # Defines k-means clusters in the range assigned above."
   ]
  },
  {
   "cell_type": "code",
   "execution_count": 48,
   "id": "c3d14101",
   "metadata": {},
   "outputs": [
    {
     "data": {
      "text/plain": [
       "[-31104305610.38614,\n",
       " -15579109304.708889,\n",
       " -6191217405.18162,\n",
       " -4577295372.264468,\n",
       " -3310904825.21424,\n",
       " -2543429173.9352303,\n",
       " -2039678891.5089881,\n",
       " -1797722265.7499707,\n",
       " -1568667734.9672356]"
      ]
     },
     "execution_count": 48,
     "metadata": {},
     "output_type": "execute_result"
    }
   ],
   "source": [
    "#create score that represents a rate of variation for cluster operation\n",
    "score = [kmeans[i].fit(City_rev).score(City_rev) for i in range(len(kmeans))] \n",
    "\n",
    "score"
   ]
  },
  {
   "cell_type": "code",
   "execution_count": 49,
   "id": "f85b6d46",
   "metadata": {},
   "outputs": [
    {
     "data": {
      "image/png": "[encoded data removed]",
      "text/plain": [
       "<Figure size 432x288 with 1 Axes>"
      ]
     },
     "metadata": {
      "needs_background": "light"
     },
     "output_type": "display_data"
    }
   ],
   "source": [
    "#plot elbow curve using pylab\n",
    "\n",
    "pl.plot(num_cl, score)\n",
    "pl.xlabel('Number of Clusters')\n",
    "pl.ylabel('Score')\n",
    "pl.title('Elbow Curve')\n",
    "pl.show()"
   ]
  },
  {
   "cell_type": "code",
   "execution_count": 50,
   "id": "23e90b6d",
   "metadata": {},
   "outputs": [],
   "source": [
    "#create k-means object\n",
    "kmeans = KMeans(n_clusters = 4, n_jobs = -1)"
   ]
  },
  {
   "cell_type": "code",
   "execution_count": 51,
   "id": "ef42abf0",
   "metadata": {},
   "outputs": [
    {
     "name": "stderr",
     "output_type": "stream",
     "text": [
      "C:\\Users\\18179\\anaconda3\\lib\\site-packages\\sklearn\\cluster\\_kmeans.py:792: FutureWarning: 'n_jobs' was deprecated in version 0.23 and will be removed in 1.0 (renaming of 0.25).\n",
      "  warnings.warn(\"'n_jobs' was deprecated in version 0.23 and will be\"\n"
     ]
    },
    {
     "data": {
      "text/plain": [
       "KMeans(n_clusters=4, n_jobs=-1)"
      ]
     },
     "execution_count": 51,
     "metadata": {},
     "output_type": "execute_result"
    }
   ],
   "source": [
    "#Fit kmeans to df\n",
    "kmeans.fit(City_rev)"
   ]
  },
  {
   "cell_type": "code",
   "execution_count": 52,
   "id": "9aff0c22",
   "metadata": {},
   "outputs": [
    {
     "name": "stderr",
     "output_type": "stream",
     "text": [
      "C:\\Users\\18179\\anaconda3\\lib\\site-packages\\sklearn\\cluster\\_kmeans.py:792: FutureWarning: 'n_jobs' was deprecated in version 0.23 and will be removed in 1.0 (renaming of 0.25).\n",
      "  warnings.warn(\"'n_jobs' was deprecated in version 0.23 and will be\"\n"
     ]
    }
   ],
   "source": [
    "City_rev['clusters'] = kmeans.fit_predict(City_rev)"
   ]
  },
  {
   "cell_type": "code",
   "execution_count": 53,
   "id": "8ea6292a",
   "metadata": {},
   "outputs": [
    {
     "data": {
      "text/plain": [
       "1    169344\n",
       "3     49387\n",
       "0     25737\n",
       "2       298\n",
       "Name: clusters, dtype: int64"
      ]
     },
     "execution_count": 53,
     "metadata": {},
     "output_type": "execute_result"
    }
   ],
   "source": [
    "City_rev['clusters'].value_counts()"
   ]
  },
  {
   "cell_type": "code",
   "execution_count": 54,
   "id": "5e3080d4",
   "metadata": {},
   "outputs": [],
   "source": [
    "#Descriptive Statistics \n",
    "\n",
    "City_rev.loc[City_rev['clusters'] == 2, 'cluster'] = 'purple'\n",
    "City_rev.loc[City_rev['clusters'] == 1, 'cluster'] = 'pink'\n",
    "City_rev.loc[City_rev['clusters'] == 0, 'cluster'] = 'tan'\n",
    "City_rev.loc[City_rev['clusters'] == 3, 'cluster'] = 'dark purple'"
   ]
  },
  {
   "cell_type": "markdown",
   "id": "a9ada440",
   "metadata": {},
   "source": [
    "Combine data frames"
   ]
  },
  {
   "cell_type": "code",
   "execution_count": 72,
   "id": "df78305b",
   "metadata": {},
   "outputs": [],
   "source": [
    "column = ['city',\n",
    "            'country',\n",
    "         'price']"
   ]
  },
  {
   "cell_type": "code",
   "execution_count": 73,
   "id": "70bb0759",
   "metadata": {},
   "outputs": [],
   "source": [
    "location = df_list[column]"
   ]
  },
  {
   "cell_type": "code",
   "execution_count": 74,
   "id": "1c669270",
   "metadata": {},
   "outputs": [
    {
     "data": {
      "text/html": [
       "<div>\n",
       "<style scoped>\n",
       "    .dataframe tbody tr th:only-of-type {\n",
       "        vertical-align: middle;\n",
       "    }\n",
       "\n",
       "    .dataframe tbody tr th {\n",
       "        vertical-align: top;\n",
       "    }\n",
       "\n",
       "    .dataframe thead th {\n",
       "        text-align: right;\n",
       "    }\n",
       "</style>\n",
       "<table border=\"1\" class=\"dataframe\">\n",
       "  <thead>\n",
       "    <tr style=\"text-align: right;\">\n",
       "      <th></th>\n",
       "      <th>city</th>\n",
       "      <th>country</th>\n",
       "      <th>price</th>\n",
       "    </tr>\n",
       "  </thead>\n",
       "  <tbody>\n",
       "    <tr>\n",
       "      <th>0</th>\n",
       "      <td>Paris</td>\n",
       "      <td>France</td>\n",
       "      <td>53</td>\n",
       "    </tr>\n",
       "    <tr>\n",
       "      <th>1</th>\n",
       "      <td>Paris</td>\n",
       "      <td>France</td>\n",
       "      <td>120</td>\n",
       "    </tr>\n",
       "    <tr>\n",
       "      <th>2</th>\n",
       "      <td>Paris</td>\n",
       "      <td>France</td>\n",
       "      <td>89</td>\n",
       "    </tr>\n",
       "    <tr>\n",
       "      <th>3</th>\n",
       "      <td>Paris</td>\n",
       "      <td>France</td>\n",
       "      <td>58</td>\n",
       "    </tr>\n",
       "    <tr>\n",
       "      <th>4</th>\n",
       "      <td>Paris</td>\n",
       "      <td>France</td>\n",
       "      <td>60</td>\n",
       "    </tr>\n",
       "  </tbody>\n",
       "</table>\n",
       "</div>"
      ],
      "text/plain": [
       "    city country  price\n",
       "0  Paris  France     53\n",
       "1  Paris  France    120\n",
       "2  Paris  France     89\n",
       "3  Paris  France     58\n",
       "4  Paris  France     60"
      ]
     },
     "execution_count": 74,
     "metadata": {},
     "output_type": "execute_result"
    }
   ],
   "source": [
    "location.head()"
   ]
  },
  {
   "cell_type": "code",
   "execution_count": 78,
   "id": "de1997a4",
   "metadata": {},
   "outputs": [],
   "source": [
    "#combine DFs\n",
    "\n",
    "Joined = City_rev.join(location, lsuffix = '_left')"
   ]
  },
  {
   "cell_type": "code",
   "execution_count": 79,
   "id": "2e27b4b3",
   "metadata": {},
   "outputs": [
    {
     "data": {
      "text/html": [
       "<div>\n",
       "<style scoped>\n",
       "    .dataframe tbody tr th:only-of-type {\n",
       "        vertical-align: middle;\n",
       "    }\n",
       "\n",
       "    .dataframe tbody tr th {\n",
       "        vertical-align: top;\n",
       "    }\n",
       "\n",
       "    .dataframe thead th {\n",
       "        text-align: right;\n",
       "    }\n",
       "</style>\n",
       "<table border=\"1\" class=\"dataframe\">\n",
       "  <thead>\n",
       "    <tr style=\"text-align: right;\">\n",
       "      <th></th>\n",
       "      <th>price_left</th>\n",
       "      <th>host_total_listings_count</th>\n",
       "      <th>review_scores_rating</th>\n",
       "      <th>review_scores_accuracy</th>\n",
       "      <th>review_scores_cleanliness</th>\n",
       "      <th>review_scores_checkin</th>\n",
       "      <th>review_scores_location</th>\n",
       "      <th>review_scores_value</th>\n",
       "      <th>accommodates</th>\n",
       "      <th>latitude</th>\n",
       "      <th>longitude</th>\n",
       "      <th>clusters</th>\n",
       "      <th>cluster</th>\n",
       "      <th>city</th>\n",
       "      <th>country</th>\n",
       "      <th>price</th>\n",
       "    </tr>\n",
       "  </thead>\n",
       "  <tbody>\n",
       "    <tr>\n",
       "      <th>0</th>\n",
       "      <td>53</td>\n",
       "      <td>1.0</td>\n",
       "      <td>100.0</td>\n",
       "      <td>10.0</td>\n",
       "      <td>10.0</td>\n",
       "      <td>10.0</td>\n",
       "      <td>10.0</td>\n",
       "      <td>10.0</td>\n",
       "      <td>2</td>\n",
       "      <td>48.88668</td>\n",
       "      <td>2.33343</td>\n",
       "      <td>1</td>\n",
       "      <td>pink</td>\n",
       "      <td>Paris</td>\n",
       "      <td>France</td>\n",
       "      <td>53</td>\n",
       "    </tr>\n",
       "    <tr>\n",
       "      <th>1</th>\n",
       "      <td>120</td>\n",
       "      <td>1.0</td>\n",
       "      <td>100.0</td>\n",
       "      <td>10.0</td>\n",
       "      <td>10.0</td>\n",
       "      <td>10.0</td>\n",
       "      <td>10.0</td>\n",
       "      <td>10.0</td>\n",
       "      <td>2</td>\n",
       "      <td>48.88617</td>\n",
       "      <td>2.34515</td>\n",
       "      <td>1</td>\n",
       "      <td>pink</td>\n",
       "      <td>Paris</td>\n",
       "      <td>France</td>\n",
       "      <td>120</td>\n",
       "    </tr>\n",
       "    <tr>\n",
       "      <th>2</th>\n",
       "      <td>89</td>\n",
       "      <td>1.0</td>\n",
       "      <td>100.0</td>\n",
       "      <td>10.0</td>\n",
       "      <td>10.0</td>\n",
       "      <td>10.0</td>\n",
       "      <td>10.0</td>\n",
       "      <td>10.0</td>\n",
       "      <td>2</td>\n",
       "      <td>48.88112</td>\n",
       "      <td>2.31712</td>\n",
       "      <td>1</td>\n",
       "      <td>pink</td>\n",
       "      <td>Paris</td>\n",
       "      <td>France</td>\n",
       "      <td>89</td>\n",
       "    </tr>\n",
       "    <tr>\n",
       "      <th>3</th>\n",
       "      <td>58</td>\n",
       "      <td>1.0</td>\n",
       "      <td>100.0</td>\n",
       "      <td>10.0</td>\n",
       "      <td>10.0</td>\n",
       "      <td>10.0</td>\n",
       "      <td>10.0</td>\n",
       "      <td>10.0</td>\n",
       "      <td>2</td>\n",
       "      <td>48.84571</td>\n",
       "      <td>2.30584</td>\n",
       "      <td>1</td>\n",
       "      <td>pink</td>\n",
       "      <td>Paris</td>\n",
       "      <td>France</td>\n",
       "      <td>58</td>\n",
       "    </tr>\n",
       "    <tr>\n",
       "      <th>4</th>\n",
       "      <td>60</td>\n",
       "      <td>1.0</td>\n",
       "      <td>100.0</td>\n",
       "      <td>10.0</td>\n",
       "      <td>10.0</td>\n",
       "      <td>10.0</td>\n",
       "      <td>10.0</td>\n",
       "      <td>10.0</td>\n",
       "      <td>2</td>\n",
       "      <td>48.85500</td>\n",
       "      <td>2.26979</td>\n",
       "      <td>1</td>\n",
       "      <td>pink</td>\n",
       "      <td>Paris</td>\n",
       "      <td>France</td>\n",
       "      <td>60</td>\n",
       "    </tr>\n",
       "  </tbody>\n",
       "</table>\n",
       "</div>"
      ],
      "text/plain": [
       "   price_left  host_total_listings_count  review_scores_rating  \\\n",
       "0          53                        1.0                 100.0   \n",
       "1         120                        1.0                 100.0   \n",
       "2          89                        1.0                 100.0   \n",
       "3          58                        1.0                 100.0   \n",
       "4          60                        1.0                 100.0   \n",
       "\n",
       "   review_scores_accuracy  review_scores_cleanliness  review_scores_checkin  \\\n",
       "0                    10.0                       10.0                   10.0   \n",
       "1                    10.0                       10.0                   10.0   \n",
       "2                    10.0                       10.0                   10.0   \n",
       "3                    10.0                       10.0                   10.0   \n",
       "4                    10.0                       10.0                   10.0   \n",
       "\n",
       "   review_scores_location  review_scores_value  accommodates  latitude  \\\n",
       "0                    10.0                 10.0             2  48.88668   \n",
       "1                    10.0                 10.0             2  48.88617   \n",
       "2                    10.0                 10.0             2  48.88112   \n",
       "3                    10.0                 10.0             2  48.84571   \n",
       "4                    10.0                 10.0             2  48.85500   \n",
       "\n",
       "   longitude  clusters cluster   city country  price  \n",
       "0    2.33343         1    pink  Paris  France     53  \n",
       "1    2.34515         1    pink  Paris  France    120  \n",
       "2    2.31712         1    pink  Paris  France     89  \n",
       "3    2.30584         1    pink  Paris  France     58  \n",
       "4    2.26979         1    pink  Paris  France     60  "
      ]
     },
     "execution_count": 79,
     "metadata": {},
     "output_type": "execute_result"
    }
   ],
   "source": [
    "Joined.head()"
   ]
  },
  {
   "cell_type": "code",
   "execution_count": 70,
   "id": "e0603353",
   "metadata": {},
   "outputs": [
    {
     "data": {
      "text/html": [
       "<div>\n",
       "<style scoped>\n",
       "    .dataframe tbody tr th:only-of-type {\n",
       "        vertical-align: middle;\n",
       "    }\n",
       "\n",
       "    .dataframe tbody tr th {\n",
       "        vertical-align: top;\n",
       "    }\n",
       "\n",
       "    .dataframe thead th {\n",
       "        text-align: right;\n",
       "    }\n",
       "</style>\n",
       "<table border=\"1\" class=\"dataframe\">\n",
       "  <thead>\n",
       "    <tr style=\"text-align: right;\">\n",
       "      <th></th>\n",
       "      <th>price</th>\n",
       "      <th>host_total_listings_count</th>\n",
       "      <th>review_scores_rating</th>\n",
       "      <th>review_scores_accuracy</th>\n",
       "      <th>review_scores_cleanliness</th>\n",
       "      <th>review_scores_checkin</th>\n",
       "      <th>review_scores_location</th>\n",
       "      <th>review_scores_value</th>\n",
       "      <th>accommodates</th>\n",
       "      <th>latitude</th>\n",
       "      <th>longitude</th>\n",
       "      <th>clusters</th>\n",
       "      <th>cluster</th>\n",
       "      <th>city</th>\n",
       "      <th>country</th>\n",
       "    </tr>\n",
       "  </thead>\n",
       "  <tbody>\n",
       "    <tr>\n",
       "      <th>0</th>\n",
       "      <td>53.0</td>\n",
       "      <td>1.0</td>\n",
       "      <td>100.0</td>\n",
       "      <td>10.0</td>\n",
       "      <td>10.0</td>\n",
       "      <td>10.0</td>\n",
       "      <td>10.0</td>\n",
       "      <td>10.0</td>\n",
       "      <td>2.0</td>\n",
       "      <td>48.88668</td>\n",
       "      <td>2.33343</td>\n",
       "      <td>1.0</td>\n",
       "      <td>pink</td>\n",
       "      <td>NaN</td>\n",
       "      <td>NaN</td>\n",
       "    </tr>\n",
       "    <tr>\n",
       "      <th>1</th>\n",
       "      <td>120.0</td>\n",
       "      <td>1.0</td>\n",
       "      <td>100.0</td>\n",
       "      <td>10.0</td>\n",
       "      <td>10.0</td>\n",
       "      <td>10.0</td>\n",
       "      <td>10.0</td>\n",
       "      <td>10.0</td>\n",
       "      <td>2.0</td>\n",
       "      <td>48.88617</td>\n",
       "      <td>2.34515</td>\n",
       "      <td>1.0</td>\n",
       "      <td>pink</td>\n",
       "      <td>NaN</td>\n",
       "      <td>NaN</td>\n",
       "    </tr>\n",
       "    <tr>\n",
       "      <th>2</th>\n",
       "      <td>89.0</td>\n",
       "      <td>1.0</td>\n",
       "      <td>100.0</td>\n",
       "      <td>10.0</td>\n",
       "      <td>10.0</td>\n",
       "      <td>10.0</td>\n",
       "      <td>10.0</td>\n",
       "      <td>10.0</td>\n",
       "      <td>2.0</td>\n",
       "      <td>48.88112</td>\n",
       "      <td>2.31712</td>\n",
       "      <td>1.0</td>\n",
       "      <td>pink</td>\n",
       "      <td>NaN</td>\n",
       "      <td>NaN</td>\n",
       "    </tr>\n",
       "    <tr>\n",
       "      <th>3</th>\n",
       "      <td>58.0</td>\n",
       "      <td>1.0</td>\n",
       "      <td>100.0</td>\n",
       "      <td>10.0</td>\n",
       "      <td>10.0</td>\n",
       "      <td>10.0</td>\n",
       "      <td>10.0</td>\n",
       "      <td>10.0</td>\n",
       "      <td>2.0</td>\n",
       "      <td>48.84571</td>\n",
       "      <td>2.30584</td>\n",
       "      <td>1.0</td>\n",
       "      <td>pink</td>\n",
       "      <td>NaN</td>\n",
       "      <td>NaN</td>\n",
       "    </tr>\n",
       "    <tr>\n",
       "      <th>4</th>\n",
       "      <td>60.0</td>\n",
       "      <td>1.0</td>\n",
       "      <td>100.0</td>\n",
       "      <td>10.0</td>\n",
       "      <td>10.0</td>\n",
       "      <td>10.0</td>\n",
       "      <td>10.0</td>\n",
       "      <td>10.0</td>\n",
       "      <td>2.0</td>\n",
       "      <td>48.85500</td>\n",
       "      <td>2.26979</td>\n",
       "      <td>1.0</td>\n",
       "      <td>pink</td>\n",
       "      <td>NaN</td>\n",
       "      <td>NaN</td>\n",
       "    </tr>\n",
       "  </tbody>\n",
       "</table>\n",
       "</div>"
      ],
      "text/plain": [
       "   price  host_total_listings_count  review_scores_rating  \\\n",
       "0   53.0                        1.0                 100.0   \n",
       "1  120.0                        1.0                 100.0   \n",
       "2   89.0                        1.0                 100.0   \n",
       "3   58.0                        1.0                 100.0   \n",
       "4   60.0                        1.0                 100.0   \n",
       "\n",
       "   review_scores_accuracy  review_scores_cleanliness  review_scores_checkin  \\\n",
       "0                    10.0                       10.0                   10.0   \n",
       "1                    10.0                       10.0                   10.0   \n",
       "2                    10.0                       10.0                   10.0   \n",
       "3                    10.0                       10.0                   10.0   \n",
       "4                    10.0                       10.0                   10.0   \n",
       "\n",
       "   review_scores_location  review_scores_value  accommodates  latitude  \\\n",
       "0                    10.0                 10.0           2.0  48.88668   \n",
       "1                    10.0                 10.0           2.0  48.88617   \n",
       "2                    10.0                 10.0           2.0  48.88112   \n",
       "3                    10.0                 10.0           2.0  48.84571   \n",
       "4                    10.0                 10.0           2.0  48.85500   \n",
       "\n",
       "   longitude  clusters cluster city country  \n",
       "0    2.33343       1.0    pink  NaN     NaN  \n",
       "1    2.34515       1.0    pink  NaN     NaN  \n",
       "2    2.31712       1.0    pink  NaN     NaN  \n",
       "3    2.30584       1.0    pink  NaN     NaN  \n",
       "4    2.26979       1.0    pink  NaN     NaN  "
      ]
     },
     "execution_count": 70,
     "metadata": {},
     "output_type": "execute_result"
    }
   ],
   "source": [
    "City_rev_location.head()"
   ]
  },
  {
   "cell_type": "code",
   "execution_count": null,
   "id": "062a4cf3",
   "metadata": {},
   "outputs": [],
   "source": []
  },
  {
   "cell_type": "code",
   "execution_count": 57,
   "id": "d4f02560",
   "metadata": {},
   "outputs": [
    {
     "data": {
      "text/html": [
       "<div>\n",
       "<style scoped>\n",
       "    .dataframe tbody tr th:only-of-type {\n",
       "        vertical-align: middle;\n",
       "    }\n",
       "\n",
       "    .dataframe tbody tr th {\n",
       "        vertical-align: top;\n",
       "    }\n",
       "\n",
       "    .dataframe thead th {\n",
       "        text-align: right;\n",
       "    }\n",
       "</style>\n",
       "<table border=\"1\" class=\"dataframe\">\n",
       "  <thead>\n",
       "    <tr style=\"text-align: right;\">\n",
       "      <th></th>\n",
       "      <th>price</th>\n",
       "      <th>host_total_listings_count</th>\n",
       "      <th>review_scores_rating</th>\n",
       "      <th>review_scores_accuracy</th>\n",
       "      <th>review_scores_cleanliness</th>\n",
       "      <th>review_scores_checkin</th>\n",
       "      <th>review_scores_location</th>\n",
       "      <th>review_scores_value</th>\n",
       "      <th>accommodates</th>\n",
       "      <th>latitude</th>\n",
       "      <th>longitude</th>\n",
       "      <th>clusters</th>\n",
       "      <th>cluster</th>\n",
       "    </tr>\n",
       "  </thead>\n",
       "  <tbody>\n",
       "    <tr>\n",
       "      <th>0</th>\n",
       "      <td>53</td>\n",
       "      <td>1.0</td>\n",
       "      <td>100.0</td>\n",
       "      <td>10.0</td>\n",
       "      <td>10.0</td>\n",
       "      <td>10.0</td>\n",
       "      <td>10.0</td>\n",
       "      <td>10.0</td>\n",
       "      <td>2</td>\n",
       "      <td>48.88668</td>\n",
       "      <td>2.33343</td>\n",
       "      <td>1</td>\n",
       "      <td>pink</td>\n",
       "    </tr>\n",
       "    <tr>\n",
       "      <th>1</th>\n",
       "      <td>120</td>\n",
       "      <td>1.0</td>\n",
       "      <td>100.0</td>\n",
       "      <td>10.0</td>\n",
       "      <td>10.0</td>\n",
       "      <td>10.0</td>\n",
       "      <td>10.0</td>\n",
       "      <td>10.0</td>\n",
       "      <td>2</td>\n",
       "      <td>48.88617</td>\n",
       "      <td>2.34515</td>\n",
       "      <td>1</td>\n",
       "      <td>pink</td>\n",
       "    </tr>\n",
       "    <tr>\n",
       "      <th>2</th>\n",
       "      <td>89</td>\n",
       "      <td>1.0</td>\n",
       "      <td>100.0</td>\n",
       "      <td>10.0</td>\n",
       "      <td>10.0</td>\n",
       "      <td>10.0</td>\n",
       "      <td>10.0</td>\n",
       "      <td>10.0</td>\n",
       "      <td>2</td>\n",
       "      <td>48.88112</td>\n",
       "      <td>2.31712</td>\n",
       "      <td>1</td>\n",
       "      <td>pink</td>\n",
       "    </tr>\n",
       "    <tr>\n",
       "      <th>3</th>\n",
       "      <td>58</td>\n",
       "      <td>1.0</td>\n",
       "      <td>100.0</td>\n",
       "      <td>10.0</td>\n",
       "      <td>10.0</td>\n",
       "      <td>10.0</td>\n",
       "      <td>10.0</td>\n",
       "      <td>10.0</td>\n",
       "      <td>2</td>\n",
       "      <td>48.84571</td>\n",
       "      <td>2.30584</td>\n",
       "      <td>1</td>\n",
       "      <td>pink</td>\n",
       "    </tr>\n",
       "    <tr>\n",
       "      <th>4</th>\n",
       "      <td>60</td>\n",
       "      <td>1.0</td>\n",
       "      <td>100.0</td>\n",
       "      <td>10.0</td>\n",
       "      <td>10.0</td>\n",
       "      <td>10.0</td>\n",
       "      <td>10.0</td>\n",
       "      <td>10.0</td>\n",
       "      <td>2</td>\n",
       "      <td>48.85500</td>\n",
       "      <td>2.26979</td>\n",
       "      <td>1</td>\n",
       "      <td>pink</td>\n",
       "    </tr>\n",
       "  </tbody>\n",
       "</table>\n",
       "</div>"
      ],
      "text/plain": [
       "   price  host_total_listings_count  review_scores_rating  \\\n",
       "0     53                        1.0                 100.0   \n",
       "1    120                        1.0                 100.0   \n",
       "2     89                        1.0                 100.0   \n",
       "3     58                        1.0                 100.0   \n",
       "4     60                        1.0                 100.0   \n",
       "\n",
       "   review_scores_accuracy  review_scores_cleanliness  review_scores_checkin  \\\n",
       "0                    10.0                       10.0                   10.0   \n",
       "1                    10.0                       10.0                   10.0   \n",
       "2                    10.0                       10.0                   10.0   \n",
       "3                    10.0                       10.0                   10.0   \n",
       "4                    10.0                       10.0                   10.0   \n",
       "\n",
       "   review_scores_location  review_scores_value  accommodates  latitude  \\\n",
       "0                    10.0                 10.0             2  48.88668   \n",
       "1                    10.0                 10.0             2  48.88617   \n",
       "2                    10.0                 10.0             2  48.88112   \n",
       "3                    10.0                 10.0             2  48.84571   \n",
       "4                    10.0                 10.0             2  48.85500   \n",
       "\n",
       "   longitude  clusters cluster  \n",
       "0    2.33343         1    pink  \n",
       "1    2.34515         1    pink  \n",
       "2    2.31712         1    pink  \n",
       "3    2.30584         1    pink  \n",
       "4    2.26979         1    pink  "
      ]
     },
     "execution_count": 57,
     "metadata": {},
     "output_type": "execute_result"
    }
   ],
   "source": [
    "City_rev.head()"
   ]
  },
  {
   "cell_type": "code",
   "execution_count": null,
   "id": "0065b555",
   "metadata": {},
   "outputs": [],
   "source": []
  },
  {
   "cell_type": "code",
   "execution_count": 18,
   "id": "a5996e4e",
   "metadata": {},
   "outputs": [],
   "source": [
    "#save as JSON file\n",
    "\n",
    "City_rev.to_json(r'C:\\Users\\18179\\Documents\\CareerFoundry\\Independent Project\\02 Data\\Raw Data\\Airbnb.geo.json') "
   ]
  },
  {
   "cell_type": "code",
   "execution_count": 20,
   "id": "14f74478",
   "metadata": {},
   "outputs": [],
   "source": [
    "#save as csv file\n",
    "\n",
    "City_rev.to_csv(r'C:\\Users\\18179\\Documents\\CareerFoundry\\Independent Project\\02 Data\\Raw Data\\Airbnb.csv') "
   ]
  },
  {
   "cell_type": "code",
   "execution_count": 22,
   "id": "bb53b48a",
   "metadata": {},
   "outputs": [],
   "source": [
    "#excel file\n",
    "with pd.ExcelWriter('mult_sheets_1.xlsx') as writer1:\n",
    "    City_rev.to_excel(writer1, sheet_name = 'City_rev', index = False)"
   ]
  },
  {
   "cell_type": "code",
   "execution_count": 80,
   "id": "dc0151d2",
   "metadata": {},
   "outputs": [],
   "source": [
    "#excel file\n",
    "\n",
    "Joined.to_excel(r'C:\\Users\\18179\\Documents\\CareerFoundry\\Independent Project\\02 Data\\Raw Data\\Airbnb_join.xlsx') "
   ]
  },
  {
   "cell_type": "code",
   "execution_count": null,
   "id": "533072eb",
   "metadata": {},
   "outputs": [],
   "source": []
  }
 ],
 "metadata": {
  "kernelspec": {
   "display_name": "Python 3",
   "language": "python",
   "name": "python3"
  },
  "language_info": {
   "codemirror_mode": {
    "name": "ipython",
    "version": 3
   },
   "file_extension": ".py",
   "mimetype": "text/x-python",
   "name": "python",
   "nbconvert_exporter": "python",
   "pygments_lexer": "ipython3",
   "version": "3.8.8"
  }
 },
 "nbformat": 4,
 "nbformat_minor": 5
}
