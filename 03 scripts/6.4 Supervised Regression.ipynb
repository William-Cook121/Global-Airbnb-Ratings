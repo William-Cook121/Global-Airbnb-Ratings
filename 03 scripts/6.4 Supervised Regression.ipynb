{
 "cells": [
  {
   "cell_type": "code",
   "execution_count": 1,
   "id": "b2912a32",
   "metadata": {},
   "outputs": [],
   "source": [
    "import pandas as pd\n",
    "import numpy as np\n",
    "import seaborn as sns\n",
    "import matplotlib\n",
    "import matplotlib.pyplot as plt\n",
    "import os\n",
    "import sklearn\n",
    "from sklearn.model_selection import train_test_split \n",
    "from sklearn.linear_model import LinearRegression\n",
    "from sklearn.metrics import mean_squared_error, r2_score"
   ]
  },
  {
   "cell_type": "code",
   "execution_count": 2,
   "id": "989ef8df",
   "metadata": {},
   "outputs": [],
   "source": [
    "# This option ensures that the graphs you create are displayed within the notebook without the need to \"call\" them specifically.\n",
    "\n",
    "%matplotlib inline"
   ]
  },
  {
   "cell_type": "code",
   "execution_count": 3,
   "id": "30894175",
   "metadata": {},
   "outputs": [
    {
     "name": "stderr",
     "output_type": "stream",
     "text": [
      "C:\\Users\\18179\\anaconda3\\lib\\site-packages\\IPython\\core\\interactiveshell.py:3165: DtypeWarning: Columns (5,13) have mixed types.Specify dtype option on import or set low_memory=False.\n",
      "  has_raised = await self.run_ast_nodes(code_ast.body, cell_name,\n"
     ]
    }
   ],
   "source": [
    "#import DF\n",
    "\n",
    "df_list = pd.read_csv(r\"C:\\Users\\18179\\Documents\\CareerFoundry\\Independent Project\\02 Data\\Raw Data\\Listings.csv\\Listings.csv\", index_col = False)"
   ]
  },
  {
   "cell_type": "markdown",
   "id": "21e8eb12",
   "metadata": {},
   "source": [
    "Clean Data"
   ]
  },
  {
   "cell_type": "code",
   "execution_count": 7,
   "id": "48a5e2c3",
   "metadata": {},
   "outputs": [],
   "source": [
    "#Clean extreme values\n",
    "\n",
    "df_list = df_list[df_list['price'] < 1000]"
   ]
  },
  {
   "cell_type": "code",
   "execution_count": 8,
   "id": "df9f44b3",
   "metadata": {},
   "outputs": [],
   "source": [
    "#create country column\n",
    "\n",
    "df_list.loc[df_list['city'] == 'Paris', 'country'] = 'France'\n",
    "df_list.loc[df_list['city'] == 'New York', 'country'] = 'United States of America'\n",
    "df_list.loc[df_list['city'] == 'Sydney', 'country'] = 'Australia'\n",
    "df_list.loc[df_list['city'] == 'Rome', 'country'] = 'Italy'\n",
    "df_list.loc[df_list['city'] == 'Rio de Janeiro', 'country'] = 'Brazil'\n",
    "df_list.loc[df_list['city'] == 'Istanbul', 'country'] = 'Turkey'\n",
    "df_list.loc[df_list['city'] == 'Mexico City', 'country'] = 'Mexico'\n",
    "df_list.loc[df_list['city'] == 'Bangkok', 'country'] = 'Thailand'\n",
    "df_list.loc[df_list['city'] == 'Cape Town', 'country'] = 'South Africa'\n",
    "df_list.loc[df_list['city'] == 'Hong Kong', 'country'] = 'China'"
   ]
  },
  {
   "cell_type": "code",
   "execution_count": 9,
   "id": "cfbb84e4",
   "metadata": {},
   "outputs": [],
   "source": [
    "#Select necessary columns\n",
    "\n",
    "columns = ['price',\n",
    "           'host_total_listings_count',\n",
    "           'review_scores_rating',\n",
    "           'review_scores_accuracy',\n",
    "           'review_scores_cleanliness',\n",
    "           'review_scores_checkin',\n",
    "           'review_scores_location',\n",
    "           'review_scores_value',\n",
    "           'city',\n",
    "           'country'\n",
    "          ]"
   ]
  },
  {
   "cell_type": "code",
   "execution_count": 10,
   "id": "3c9d1225",
   "metadata": {},
   "outputs": [],
   "source": [
    "#create subset\n",
    "\n",
    "City_rev = df_list[columns]"
   ]
  },
  {
   "cell_type": "code",
   "execution_count": 11,
   "id": "1e44efb0",
   "metadata": {},
   "outputs": [
    {
     "data": {
      "text/plain": [
       "France                      64454\n",
       "United States of America    36735\n",
       "Australia                   32722\n",
       "Italy                       27510\n",
       "Brazil                      23072\n",
       "Turkey                      22891\n",
       "Mexico                      13946\n",
       "South Africa                 8798\n",
       "Thailand                     8611\n",
       "China                        6027\n",
       "Name: country, dtype: int64"
      ]
     },
     "execution_count": 11,
     "metadata": {},
     "output_type": "execute_result"
    }
   ],
   "source": [
    "df_list['country'].value_counts()"
   ]
  },
  {
   "cell_type": "code",
   "execution_count": 12,
   "id": "ea35efa4",
   "metadata": {},
   "outputs": [
    {
     "data": {
      "text/plain": [
       "price                            0\n",
       "host_total_listings_count      140\n",
       "review_scores_rating         76027\n",
       "review_scores_accuracy       76285\n",
       "review_scores_cleanliness    76240\n",
       "review_scores_checkin        76335\n",
       "review_scores_location       76338\n",
       "review_scores_value          76346\n",
       "city                             0\n",
       "country                          0\n",
       "dtype: int64"
      ]
     },
     "execution_count": 12,
     "metadata": {},
     "output_type": "execute_result"
    }
   ],
   "source": [
    "City_rev.isnull().sum()"
   ]
  },
  {
   "cell_type": "code",
   "execution_count": 13,
   "id": "24ce039d",
   "metadata": {},
   "outputs": [
    {
     "name": "stderr",
     "output_type": "stream",
     "text": [
      "C:\\Users\\18179\\anaconda3\\lib\\site-packages\\pandas\\core\\series.py:4463: SettingWithCopyWarning: \n",
      "A value is trying to be set on a copy of a slice from a DataFrame\n",
      "\n",
      "See the caveats in the documentation: https://pandas.pydata.org/pandas-docs/stable/user_guide/indexing.html#returning-a-view-versus-a-copy\n",
      "  return super().fillna(\n"
     ]
    }
   ],
   "source": [
    "#impute missing values\n",
    "\n",
    "City_rev['host_total_listings_count'].fillna(City_rev['host_total_listings_count'].median(), inplace = True)\n",
    "City_rev['review_scores_rating'].fillna(City_rev['review_scores_rating'].median(), inplace = True)\n",
    "City_rev['review_scores_accuracy'].fillna(City_rev['review_scores_accuracy'].median(), inplace = True)\n",
    "City_rev['review_scores_cleanliness'].fillna(City_rev['review_scores_cleanliness'].median(), inplace = True)\n",
    "City_rev['review_scores_checkin'].fillna(City_rev['review_scores_checkin'].median(), inplace = True)\n",
    "City_rev['review_scores_location'].fillna(City_rev['review_scores_location'].median(), inplace = True)\n",
    "City_rev['review_scores_value'].fillna(City_rev['review_scores_value'].median(), inplace = True)"
   ]
  },
  {
   "cell_type": "code",
   "execution_count": 14,
   "id": "fa743560",
   "metadata": {},
   "outputs": [
    {
     "data": {
      "text/plain": [
       "price                        0\n",
       "host_total_listings_count    0\n",
       "review_scores_rating         0\n",
       "review_scores_accuracy       0\n",
       "review_scores_cleanliness    0\n",
       "review_scores_checkin        0\n",
       "review_scores_location       0\n",
       "review_scores_value          0\n",
       "city                         0\n",
       "country                      0\n",
       "dtype: int64"
      ]
     },
     "execution_count": 14,
     "metadata": {},
     "output_type": "execute_result"
    }
   ],
   "source": [
    "City_rev.isnull().sum()"
   ]
  },
  {
   "cell_type": "code",
   "execution_count": 15,
   "id": "b9d977bc",
   "metadata": {},
   "outputs": [
    {
     "data": {
      "text/plain": [
       "<AxesSubplot:xlabel='review_scores_value', ylabel='Count'>"
      ]
     },
     "execution_count": 15,
     "metadata": {},
     "output_type": "execute_result"
    },
    {
     "data": {
      "image/png": "[encoded data removed]",
      "text/plain": [
       "<Figure size 432x288 with 1 Axes>"
      ]
     },
     "metadata": {
      "needs_background": "light"
     },
     "output_type": "display_data"
    }
   ],
   "source": [
    "#Check rating\n",
    "\n",
    "sns.histplot(City_rev['review_scores_value'], bins=200, kde = True)"
   ]
  },
  {
   "cell_type": "code",
   "execution_count": 16,
   "id": "933ab82f",
   "metadata": {},
   "outputs": [
    {
     "data": {
      "text/plain": [
       "9.537354044270854"
      ]
     },
     "execution_count": 16,
     "metadata": {},
     "output_type": "execute_result"
    }
   ],
   "source": [
    "# Check the mean for review value\n",
    "City_rev['review_scores_value'].mean() "
   ]
  },
  {
   "cell_type": "code",
   "execution_count": 17,
   "id": "caa89ae6",
   "metadata": {},
   "outputs": [
    {
     "data": {
      "text/plain": [
       "10.0"
      ]
     },
     "execution_count": 17,
     "metadata": {},
     "output_type": "execute_result"
    }
   ],
   "source": [
    "#check median review value\n",
    "City_rev['review_scores_value'].median()"
   ]
  },
  {
   "cell_type": "code",
   "execution_count": 18,
   "id": "89dd9896",
   "metadata": {},
   "outputs": [
    {
     "data": {
      "text/plain": [
       "221.1122337252723"
      ]
     },
     "execution_count": 18,
     "metadata": {},
     "output_type": "execute_result"
    }
   ],
   "source": [
    "#check mean price\n",
    "City_rev['price'].mean()"
   ]
  },
  {
   "cell_type": "code",
   "execution_count": 19,
   "id": "84224a44",
   "metadata": {},
   "outputs": [
    {
     "data": {
      "text/plain": [
       "121.0"
      ]
     },
     "execution_count": 19,
     "metadata": {},
     "output_type": "execute_result"
    }
   ],
   "source": [
    "#check median price\n",
    "City_rev['price'].median()"
   ]
  },
  {
   "cell_type": "code",
   "execution_count": 20,
   "id": "1005112b",
   "metadata": {},
   "outputs": [
    {
     "data": {
      "text/plain": [
       "999"
      ]
     },
     "execution_count": 20,
     "metadata": {},
     "output_type": "execute_result"
    }
   ],
   "source": [
    "#check max price\n",
    "City_rev['price'].max()"
   ]
  },
  {
   "cell_type": "code",
   "execution_count": null,
   "id": "7404579e",
   "metadata": {},
   "outputs": [],
   "source": [
    " "
   ]
  },
  {
   "cell_type": "markdown",
   "id": "dcf72e13",
   "metadata": {},
   "source": [
    "Data Prep for regression analysis\n"
   ]
  },
  {
   "cell_type": "code",
   "execution_count": 21,
   "id": "52909040",
   "metadata": {},
   "outputs": [
    {
     "data": {
      "image/png": "[encoded data removed]",
      "text/plain": [
       "<Figure size 432x288 with 1 Axes>"
      ]
     },
     "metadata": {
      "needs_background": "light"
     },
     "output_type": "display_data"
    }
   ],
   "source": [
    "# Create a scatterplot using matplotlib for another look at how the chosen variables plot against each other.\n",
    "\n",
    "City_rev.plot(x = 'price', y='review_scores_value',style='o')\n",
    "plt.title('Review scores on value vs price ')  \n",
    "plt.xlabel('Price')  \n",
    "plt.ylabel('review_scores_value')  \n",
    "plt.show()"
   ]
  },
  {
   "cell_type": "markdown",
   "id": "87099d71",
   "metadata": {},
   "source": [
    "Hypothesis: Airbnb rentals with a higher price will receive higher review scores for value than lower priced rentals."
   ]
  },
  {
   "cell_type": "code",
   "execution_count": 22,
   "id": "d6c51a71",
   "metadata": {},
   "outputs": [],
   "source": [
    "# Reshape the variables into NumPy arrays and put them into separate objects.\n",
    "\n",
    "X = City_rev['price'].values.reshape(-1,1)\n",
    "y = City_rev['review_scores_value'].values.reshape(-1,1)"
   ]
  },
  {
   "cell_type": "code",
   "execution_count": null,
   "id": "9fbb04a8",
   "metadata": {},
   "outputs": [],
   "source": []
  },
  {
   "cell_type": "code",
   "execution_count": 23,
   "id": "51979771",
   "metadata": {},
   "outputs": [
    {
     "data": {
      "text/plain": [
       "array([[ 53],\n",
       "       [120],\n",
       "       [ 89],\n",
       "       ...,\n",
       "       [ 50],\n",
       "       [105],\n",
       "       [ 70]], dtype=int64)"
      ]
     },
     "execution_count": 23,
     "metadata": {},
     "output_type": "execute_result"
    }
   ],
   "source": [
    "X"
   ]
  },
  {
   "cell_type": "code",
   "execution_count": 24,
   "id": "a3e963f2",
   "metadata": {},
   "outputs": [
    {
     "data": {
      "text/plain": [
       "array([[10.],\n",
       "       [10.],\n",
       "       [10.],\n",
       "       ...,\n",
       "       [10.],\n",
       "       [10.],\n",
       "       [10.]])"
      ]
     },
     "execution_count": 24,
     "metadata": {},
     "output_type": "execute_result"
    }
   ],
   "source": [
    "y"
   ]
  },
  {
   "cell_type": "code",
   "execution_count": 25,
   "id": "f6708ac8",
   "metadata": {},
   "outputs": [],
   "source": [
    "# Split data into a training set and a test set.\n",
    "\n",
    "X_train, X_test, y_train, y_test = train_test_split(X, y, test_size=0.3, random_state=0)"
   ]
  },
  {
   "cell_type": "markdown",
   "id": "905faae4",
   "metadata": {},
   "source": [
    "Regression Analysis"
   ]
  },
  {
   "cell_type": "code",
   "execution_count": 26,
   "id": "01fc035c",
   "metadata": {},
   "outputs": [],
   "source": [
    "# Create a regression object.\n",
    "\n",
    "regression = LinearRegression()"
   ]
  },
  {
   "cell_type": "code",
   "execution_count": 27,
   "id": "2ea41aff",
   "metadata": {},
   "outputs": [
    {
     "data": {
      "text/plain": [
       "LinearRegression()"
      ]
     },
     "execution_count": 27,
     "metadata": {},
     "output_type": "execute_result"
    }
   ],
   "source": [
    "# Fit the regression object onto the training set.\n",
    "\n",
    "regression.fit(X_train, y_train)"
   ]
  },
  {
   "cell_type": "code",
   "execution_count": 28,
   "id": "21cfdfff",
   "metadata": {},
   "outputs": [],
   "source": [
    "# Predict the values of y using X.\n",
    "\n",
    "y_predicted = regression.predict(X_test)"
   ]
  },
  {
   "cell_type": "code",
   "execution_count": 29,
   "id": "51856743",
   "metadata": {},
   "outputs": [
    {
     "data": {
      "image/png": "[encoded data removed]",
      "text/plain": [
       "<Figure size 432x288 with 1 Axes>"
      ]
     },
     "metadata": {
      "needs_background": "light"
     },
     "output_type": "display_data"
    }
   ],
   "source": [
    "# Create a plot that shows the regression line from the model on the test set.\n",
    "\n",
    "plot_test = plt\n",
    "plot_test.scatter(X_test, y_test, color='gray', s = 15)\n",
    "plot_test.plot(X_test, y_predicted, color='red', linewidth =3)\n",
    "plot_test.title('Review scores on value vs price (Test set)')\n",
    "plot_test.xlabel('Price')\n",
    "plot_test.ylabel('review scores value')\n",
    "plot_test.show()"
   ]
  },
  {
   "cell_type": "code",
   "execution_count": 30,
   "id": "a3b7ce83",
   "metadata": {},
   "outputs": [],
   "source": [
    "# Create objects that contain the model summary statistics.\n",
    "\n",
    "rmse = mean_squared_error(y_test, y_predicted) # This is the mean squared error\n",
    "r2 = r2_score(y_test, y_predicted) # This is the R2 score. "
   ]
  },
  {
   "cell_type": "code",
   "execution_count": 31,
   "id": "cd670864",
   "metadata": {},
   "outputs": [
    {
     "name": "stdout",
     "output_type": "stream",
     "text": [
      "Slope: [[0.00014426]]\n",
      "Mean squared error:  0.8501271945204827\n",
      "R2 score:  0.0014108178768833524\n"
     ]
    }
   ],
   "source": [
    "# Print the model summary statistics. This is where you evaluate the performance of the model.\n",
    "\n",
    "print('Slope:' ,regression.coef_)\n",
    "print('Mean squared error: ', rmse)\n",
    "print('R2 score: ', r2)"
   ]
  },
  {
   "cell_type": "code",
   "execution_count": 32,
   "id": "2bf3e021",
   "metadata": {},
   "outputs": [
    {
     "data": {
      "text/html": [
       "<div>\n",
       "<style scoped>\n",
       "    .dataframe tbody tr th:only-of-type {\n",
       "        vertical-align: middle;\n",
       "    }\n",
       "\n",
       "    .dataframe tbody tr th {\n",
       "        vertical-align: top;\n",
       "    }\n",
       "\n",
       "    .dataframe thead th {\n",
       "        text-align: right;\n",
       "    }\n",
       "</style>\n",
       "<table border=\"1\" class=\"dataframe\">\n",
       "  <thead>\n",
       "    <tr style=\"text-align: right;\">\n",
       "      <th></th>\n",
       "      <th>Actual</th>\n",
       "      <th>Predicted</th>\n",
       "    </tr>\n",
       "  </thead>\n",
       "  <tbody>\n",
       "    <tr>\n",
       "      <th>0</th>\n",
       "      <td>9.0</td>\n",
       "      <td>9.516240</td>\n",
       "    </tr>\n",
       "    <tr>\n",
       "      <th>1</th>\n",
       "      <td>10.0</td>\n",
       "      <td>9.512633</td>\n",
       "    </tr>\n",
       "    <tr>\n",
       "      <th>2</th>\n",
       "      <td>7.0</td>\n",
       "      <td>9.517682</td>\n",
       "    </tr>\n",
       "    <tr>\n",
       "      <th>3</th>\n",
       "      <td>10.0</td>\n",
       "      <td>9.640735</td>\n",
       "    </tr>\n",
       "    <tr>\n",
       "      <th>4</th>\n",
       "      <td>10.0</td>\n",
       "      <td>9.511912</td>\n",
       "    </tr>\n",
       "    <tr>\n",
       "      <th>5</th>\n",
       "      <td>10.0</td>\n",
       "      <td>9.530666</td>\n",
       "    </tr>\n",
       "    <tr>\n",
       "      <th>6</th>\n",
       "      <td>10.0</td>\n",
       "      <td>9.516961</td>\n",
       "    </tr>\n",
       "    <tr>\n",
       "      <th>7</th>\n",
       "      <td>10.0</td>\n",
       "      <td>9.586205</td>\n",
       "    </tr>\n",
       "    <tr>\n",
       "      <th>8</th>\n",
       "      <td>10.0</td>\n",
       "      <td>9.511191</td>\n",
       "    </tr>\n",
       "    <tr>\n",
       "      <th>9</th>\n",
       "      <td>10.0</td>\n",
       "      <td>9.548698</td>\n",
       "    </tr>\n",
       "    <tr>\n",
       "      <th>10</th>\n",
       "      <td>8.0</td>\n",
       "      <td>9.517682</td>\n",
       "    </tr>\n",
       "    <tr>\n",
       "      <th>11</th>\n",
       "      <td>8.0</td>\n",
       "      <td>9.525472</td>\n",
       "    </tr>\n",
       "    <tr>\n",
       "      <th>12</th>\n",
       "      <td>10.0</td>\n",
       "      <td>9.553026</td>\n",
       "    </tr>\n",
       "    <tr>\n",
       "      <th>13</th>\n",
       "      <td>10.0</td>\n",
       "      <td>9.510902</td>\n",
       "    </tr>\n",
       "    <tr>\n",
       "      <th>14</th>\n",
       "      <td>10.0</td>\n",
       "      <td>9.559662</td>\n",
       "    </tr>\n",
       "    <tr>\n",
       "      <th>15</th>\n",
       "      <td>10.0</td>\n",
       "      <td>9.526338</td>\n",
       "    </tr>\n",
       "    <tr>\n",
       "      <th>16</th>\n",
       "      <td>9.0</td>\n",
       "      <td>9.576973</td>\n",
       "    </tr>\n",
       "    <tr>\n",
       "      <th>17</th>\n",
       "      <td>10.0</td>\n",
       "      <td>9.522731</td>\n",
       "    </tr>\n",
       "    <tr>\n",
       "      <th>18</th>\n",
       "      <td>10.0</td>\n",
       "      <td>9.514797</td>\n",
       "    </tr>\n",
       "    <tr>\n",
       "      <th>19</th>\n",
       "      <td>9.0</td>\n",
       "      <td>9.522010</td>\n",
       "    </tr>\n",
       "    <tr>\n",
       "      <th>20</th>\n",
       "      <td>9.0</td>\n",
       "      <td>9.570770</td>\n",
       "    </tr>\n",
       "    <tr>\n",
       "      <th>21</th>\n",
       "      <td>10.0</td>\n",
       "      <td>9.635253</td>\n",
       "    </tr>\n",
       "    <tr>\n",
       "      <th>22</th>\n",
       "      <td>10.0</td>\n",
       "      <td>9.519846</td>\n",
       "    </tr>\n",
       "    <tr>\n",
       "      <th>23</th>\n",
       "      <td>9.0</td>\n",
       "      <td>9.523453</td>\n",
       "    </tr>\n",
       "    <tr>\n",
       "      <th>24</th>\n",
       "      <td>10.0</td>\n",
       "      <td>9.531387</td>\n",
       "    </tr>\n",
       "    <tr>\n",
       "      <th>25</th>\n",
       "      <td>10.0</td>\n",
       "      <td>9.515374</td>\n",
       "    </tr>\n",
       "    <tr>\n",
       "      <th>26</th>\n",
       "      <td>8.0</td>\n",
       "      <td>9.550718</td>\n",
       "    </tr>\n",
       "    <tr>\n",
       "      <th>27</th>\n",
       "      <td>10.0</td>\n",
       "      <td>9.635253</td>\n",
       "    </tr>\n",
       "    <tr>\n",
       "      <th>28</th>\n",
       "      <td>9.0</td>\n",
       "      <td>9.542928</td>\n",
       "    </tr>\n",
       "    <tr>\n",
       "      <th>29</th>\n",
       "      <td>9.0</td>\n",
       "      <td>9.534272</td>\n",
       "    </tr>\n",
       "  </tbody>\n",
       "</table>\n",
       "</div>"
      ],
      "text/plain": [
       "    Actual  Predicted\n",
       "0      9.0   9.516240\n",
       "1     10.0   9.512633\n",
       "2      7.0   9.517682\n",
       "3     10.0   9.640735\n",
       "4     10.0   9.511912\n",
       "5     10.0   9.530666\n",
       "6     10.0   9.516961\n",
       "7     10.0   9.586205\n",
       "8     10.0   9.511191\n",
       "9     10.0   9.548698\n",
       "10     8.0   9.517682\n",
       "11     8.0   9.525472\n",
       "12    10.0   9.553026\n",
       "13    10.0   9.510902\n",
       "14    10.0   9.559662\n",
       "15    10.0   9.526338\n",
       "16     9.0   9.576973\n",
       "17    10.0   9.522731\n",
       "18    10.0   9.514797\n",
       "19     9.0   9.522010\n",
       "20     9.0   9.570770\n",
       "21    10.0   9.635253\n",
       "22    10.0   9.519846\n",
       "23     9.0   9.523453\n",
       "24    10.0   9.531387\n",
       "25    10.0   9.515374\n",
       "26     8.0   9.550718\n",
       "27    10.0   9.635253\n",
       "28     9.0   9.542928\n",
       "29     9.0   9.534272"
      ]
     },
     "execution_count": 32,
     "metadata": {},
     "output_type": "execute_result"
    }
   ],
   "source": [
    "# Create a dataframe comparing the actual and predicted values of y.\n",
    "\n",
    "data = pd.DataFrame({'Actual': y_test.flatten(), 'Predicted': y_predicted.flatten()})\n",
    "data.head(30)"
   ]
  },
  {
   "cell_type": "markdown",
   "id": "21287c29",
   "metadata": {},
   "source": [
    "Compare how regression fits the training set"
   ]
  },
  {
   "cell_type": "code",
   "execution_count": 33,
   "id": "0f5e7e93",
   "metadata": {},
   "outputs": [],
   "source": [
    "# Predict. This is predicting X_train\n",
    "\n",
    "y_predicted_train = regression.predict(X_train) "
   ]
  },
  {
   "cell_type": "code",
   "execution_count": 34,
   "id": "5fbd89cd",
   "metadata": {},
   "outputs": [],
   "source": [
    "rmse = mean_squared_error(y_train, y_predicted_train)\n",
    "r2 = r2_score(y_train, y_predicted_train)"
   ]
  },
  {
   "cell_type": "code",
   "execution_count": 35,
   "id": "f8b98055",
   "metadata": {},
   "outputs": [
    {
     "name": "stdout",
     "output_type": "stream",
     "text": [
      "Slope: [[0.00014426]]\n",
      "Mean squared error:  0.8406397386738809\n",
      "R2 score:  0.0012418427516110997\n"
     ]
    }
   ],
   "source": [
    "print('Slope:' ,regression.coef_)\n",
    "print('Mean squared error: ', rmse)\n",
    "print('R2 score: ', r2)"
   ]
  },
  {
   "cell_type": "code",
   "execution_count": 36,
   "id": "be4de794",
   "metadata": {},
   "outputs": [
    {
     "data": {
      "image/png": "[encoded data removed]",
      "text/plain": [
       "<Figure size 432x288 with 1 Axes>"
      ]
     },
     "metadata": {
      "needs_background": "light"
     },
     "output_type": "display_data"
    }
   ],
   "source": [
    "# Visualizing the training set results.\n",
    "\n",
    "plot_test = plt\n",
    "plot_test.scatter(X_train, y_train, color='green', s = 15)\n",
    "plot_test.plot(X_train, y_predicted_train, color='red', linewidth =3)\n",
    "plot_test.title('Review scores on value vs price (Test set)')\n",
    "plot_test.xlabel('Price')\n",
    "plot_test.ylabel('review scores value')\n",
    "plot_test.show()"
   ]
  },
  {
   "cell_type": "markdown",
   "id": "b12fa7f7",
   "metadata": {},
   "source": [
    "Reflections"
   ]
  },
  {
   "cell_type": "markdown",
   "id": "91196769",
   "metadata": {},
   "source": [
    "Comparing review of value scores based on price using regression analysis reveals that they have a positive correlation, but only slightly. The RMSE error of 0.84 means that the predicted review value score is off by less than a point. The R2 value of 0.001 shows that this model is not a good predictor of review value scores. This is due to the fact that there are lots of good reviews for inexpensive rentals. "
   ]
  },
  {
   "cell_type": "markdown",
   "id": "9b4b44f8",
   "metadata": {},
   "source": [
    "New Regression analysis"
   ]
  },
  {
   "cell_type": "code",
   "execution_count": 37,
   "id": "ece5e79d",
   "metadata": {},
   "outputs": [
    {
     "data": {
      "image/png": "[encoded data removed]",
      "text/plain": [
       "<Figure size 432x288 with 1 Axes>"
      ]
     },
     "metadata": {
      "needs_background": "light"
     },
     "output_type": "display_data"
    }
   ],
   "source": [
    "# Create a scatterplot using matplotlib for another look at how the chosen variables plot against each other.\n",
    "\n",
    "City_rev.plot(x = 'price', y='review_scores_rating',style='o')\n",
    "plt.title('Review scores on value vs price ')  \n",
    "plt.xlabel('Price')  \n",
    "plt.ylabel('review_scores_rating')  \n",
    "plt.show()"
   ]
  },
  {
   "cell_type": "markdown",
   "id": "b463a0c1",
   "metadata": {},
   "source": [
    "Hypothesis: Higher priced Airbnb rentals will receive higher overall scores from consumers."
   ]
  },
  {
   "cell_type": "code",
   "execution_count": 45,
   "id": "2ddf3039",
   "metadata": {},
   "outputs": [],
   "source": [
    "# Reshape the variables into NumPy arrays and put them into separate objects.\n",
    "\n",
    "X1 = City_rev['price'].values.reshape(-1,1)\n",
    "y1 = City_rev['review_scores_rating'].values.reshape(-1,1)"
   ]
  },
  {
   "cell_type": "code",
   "execution_count": 46,
   "id": "c2f1410d",
   "metadata": {},
   "outputs": [
    {
     "data": {
      "text/plain": [
       "array([[ 53],\n",
       "       [120],\n",
       "       [ 89],\n",
       "       ...,\n",
       "       [ 50],\n",
       "       [105],\n",
       "       [ 70]], dtype=int64)"
      ]
     },
     "execution_count": 46,
     "metadata": {},
     "output_type": "execute_result"
    }
   ],
   "source": [
    "X1"
   ]
  },
  {
   "cell_type": "code",
   "execution_count": 47,
   "id": "4558d13f",
   "metadata": {},
   "outputs": [],
   "source": [
    "# Split data into a training set and a test set.\n",
    "\n",
    "X1_train, X1_test, y1_train, y1_test = train_test_split(X1, y1, test_size=0.3, random_state=0)"
   ]
  },
  {
   "cell_type": "markdown",
   "id": "8634956f",
   "metadata": {},
   "source": [
    "Regression Analysis two"
   ]
  },
  {
   "cell_type": "code",
   "execution_count": 48,
   "id": "b7cf7679",
   "metadata": {},
   "outputs": [],
   "source": [
    "# Create a regression object.\n",
    "\n",
    "regression1 = LinearRegression()"
   ]
  },
  {
   "cell_type": "code",
   "execution_count": 49,
   "id": "8341c1ae",
   "metadata": {},
   "outputs": [
    {
     "data": {
      "text/plain": [
       "LinearRegression()"
      ]
     },
     "execution_count": 49,
     "metadata": {},
     "output_type": "execute_result"
    }
   ],
   "source": [
    "# Fit the regression object onto the training set.\n",
    "\n",
    "regression.fit(X1_train, y1_train)"
   ]
  },
  {
   "cell_type": "code",
   "execution_count": 50,
   "id": "72fb580f",
   "metadata": {},
   "outputs": [],
   "source": [
    "# Predict the values of y using X.\n",
    "\n",
    "y1_predicted = regression.predict(X1_test)"
   ]
  },
  {
   "cell_type": "code",
   "execution_count": 52,
   "id": "a721291e",
   "metadata": {},
   "outputs": [
    {
     "data": {
      "image/png": "[encoded data removed]",
      "text/plain": [
       "<Figure size 432x288 with 1 Axes>"
      ]
     },
     "metadata": {
      "needs_background": "light"
     },
     "output_type": "display_data"
    }
   ],
   "source": [
    "# Create a plot that shows the regression line from the model on the test set.\n",
    "\n",
    "plot_test = plt\n",
    "plot_test.scatter(X1_test, y1_test, color='gray', s = 15)\n",
    "plot_test.plot(X1_test, y1_predicted, color='red', linewidth =3)\n",
    "plot_test.title('Total rating Review Scores vs Price (Test set)')\n",
    "plot_test.xlabel('Price')\n",
    "plot_test.ylabel('Rating Review Scores')\n",
    "plot_test.show()"
   ]
  },
  {
   "cell_type": "code",
   "execution_count": 53,
   "id": "bfccf734",
   "metadata": {},
   "outputs": [],
   "source": [
    "# Create objects that contain the model summary statistics.\n",
    "\n",
    "rmse1 = mean_squared_error(y1_test, y1_predicted) # This is the mean squared error\n",
    "r2_1 = r2_score(y1_test, y1_predicted) # This is the R2 score. "
   ]
  },
  {
   "cell_type": "code",
   "execution_count": 54,
   "id": "e0053536",
   "metadata": {},
   "outputs": [
    {
     "name": "stdout",
     "output_type": "stream",
     "text": [
      "Slope: [[0.00133524]]\n",
      "Mean squared error:  72.92442735726893\n",
      "R2 score:  0.0013688097068068616\n"
     ]
    }
   ],
   "source": [
    "# Print the model summary statistics. This is where you evaluate the performance of the model.\n",
    "\n",
    "print('Slope:' ,regression.coef_)\n",
    "print('Mean squared error: ', rmse1)\n",
    "print('R2 score: ', r2_1)"
   ]
  },
  {
   "cell_type": "code",
   "execution_count": 56,
   "id": "3cb68f3f",
   "metadata": {},
   "outputs": [
    {
     "data": {
      "text/html": [
       "<div>\n",
       "<style scoped>\n",
       "    .dataframe tbody tr th:only-of-type {\n",
       "        vertical-align: middle;\n",
       "    }\n",
       "\n",
       "    .dataframe tbody tr th {\n",
       "        vertical-align: top;\n",
       "    }\n",
       "\n",
       "    .dataframe thead th {\n",
       "        text-align: right;\n",
       "    }\n",
       "</style>\n",
       "<table border=\"1\" class=\"dataframe\">\n",
       "  <thead>\n",
       "    <tr style=\"text-align: right;\">\n",
       "      <th></th>\n",
       "      <th>Actual</th>\n",
       "      <th>Predicted</th>\n",
       "    </tr>\n",
       "  </thead>\n",
       "  <tbody>\n",
       "    <tr>\n",
       "      <th>0</th>\n",
       "      <td>97.0</td>\n",
       "      <td>93.932690</td>\n",
       "    </tr>\n",
       "    <tr>\n",
       "      <th>1</th>\n",
       "      <td>96.0</td>\n",
       "      <td>93.899309</td>\n",
       "    </tr>\n",
       "    <tr>\n",
       "      <th>2</th>\n",
       "      <td>80.0</td>\n",
       "      <td>93.946042</td>\n",
       "    </tr>\n",
       "    <tr>\n",
       "      <th>3</th>\n",
       "      <td>100.0</td>\n",
       "      <td>95.085002</td>\n",
       "    </tr>\n",
       "    <tr>\n",
       "      <th>4</th>\n",
       "      <td>97.0</td>\n",
       "      <td>93.892633</td>\n",
       "    </tr>\n",
       "    <tr>\n",
       "      <th>5</th>\n",
       "      <td>97.0</td>\n",
       "      <td>94.066214</td>\n",
       "    </tr>\n",
       "    <tr>\n",
       "      <th>6</th>\n",
       "      <td>97.0</td>\n",
       "      <td>93.939366</td>\n",
       "    </tr>\n",
       "    <tr>\n",
       "      <th>7</th>\n",
       "      <td>96.0</td>\n",
       "      <td>94.580281</td>\n",
       "    </tr>\n",
       "    <tr>\n",
       "      <th>8</th>\n",
       "      <td>96.0</td>\n",
       "      <td>93.885957</td>\n",
       "    </tr>\n",
       "    <tr>\n",
       "      <th>9</th>\n",
       "      <td>96.0</td>\n",
       "      <td>94.233119</td>\n",
       "    </tr>\n",
       "    <tr>\n",
       "      <th>10</th>\n",
       "      <td>80.0</td>\n",
       "      <td>93.946042</td>\n",
       "    </tr>\n",
       "    <tr>\n",
       "      <th>11</th>\n",
       "      <td>90.0</td>\n",
       "      <td>94.018145</td>\n",
       "    </tr>\n",
       "    <tr>\n",
       "      <th>12</th>\n",
       "      <td>96.0</td>\n",
       "      <td>94.273176</td>\n",
       "    </tr>\n",
       "    <tr>\n",
       "      <th>13</th>\n",
       "      <td>98.0</td>\n",
       "      <td>93.883286</td>\n",
       "    </tr>\n",
       "    <tr>\n",
       "      <th>14</th>\n",
       "      <td>96.0</td>\n",
       "      <td>94.334597</td>\n",
       "    </tr>\n",
       "    <tr>\n",
       "      <th>15</th>\n",
       "      <td>96.0</td>\n",
       "      <td>94.026157</td>\n",
       "    </tr>\n",
       "    <tr>\n",
       "      <th>16</th>\n",
       "      <td>94.0</td>\n",
       "      <td>94.494826</td>\n",
       "    </tr>\n",
       "    <tr>\n",
       "      <th>17</th>\n",
       "      <td>99.0</td>\n",
       "      <td>93.992776</td>\n",
       "    </tr>\n",
       "    <tr>\n",
       "      <th>18</th>\n",
       "      <td>100.0</td>\n",
       "      <td>93.919338</td>\n",
       "    </tr>\n",
       "    <tr>\n",
       "      <th>19</th>\n",
       "      <td>90.0</td>\n",
       "      <td>93.986100</td>\n",
       "    </tr>\n",
       "    <tr>\n",
       "      <th>20</th>\n",
       "      <td>96.0</td>\n",
       "      <td>94.437411</td>\n",
       "    </tr>\n",
       "    <tr>\n",
       "      <th>21</th>\n",
       "      <td>96.0</td>\n",
       "      <td>95.034263</td>\n",
       "    </tr>\n",
       "    <tr>\n",
       "      <th>22</th>\n",
       "      <td>96.0</td>\n",
       "      <td>93.966071</td>\n",
       "    </tr>\n",
       "    <tr>\n",
       "      <th>23</th>\n",
       "      <td>94.0</td>\n",
       "      <td>93.999452</td>\n",
       "    </tr>\n",
       "    <tr>\n",
       "      <th>24</th>\n",
       "      <td>100.0</td>\n",
       "      <td>94.072890</td>\n",
       "    </tr>\n",
       "    <tr>\n",
       "      <th>25</th>\n",
       "      <td>97.0</td>\n",
       "      <td>93.924679</td>\n",
       "    </tr>\n",
       "    <tr>\n",
       "      <th>26</th>\n",
       "      <td>50.0</td>\n",
       "      <td>94.251812</td>\n",
       "    </tr>\n",
       "    <tr>\n",
       "      <th>27</th>\n",
       "      <td>95.0</td>\n",
       "      <td>95.034263</td>\n",
       "    </tr>\n",
       "    <tr>\n",
       "      <th>28</th>\n",
       "      <td>97.0</td>\n",
       "      <td>94.179709</td>\n",
       "    </tr>\n",
       "    <tr>\n",
       "      <th>29</th>\n",
       "      <td>90.0</td>\n",
       "      <td>94.099595</td>\n",
       "    </tr>\n",
       "  </tbody>\n",
       "</table>\n",
       "</div>"
      ],
      "text/plain": [
       "    Actual  Predicted\n",
       "0     97.0  93.932690\n",
       "1     96.0  93.899309\n",
       "2     80.0  93.946042\n",
       "3    100.0  95.085002\n",
       "4     97.0  93.892633\n",
       "5     97.0  94.066214\n",
       "6     97.0  93.939366\n",
       "7     96.0  94.580281\n",
       "8     96.0  93.885957\n",
       "9     96.0  94.233119\n",
       "10    80.0  93.946042\n",
       "11    90.0  94.018145\n",
       "12    96.0  94.273176\n",
       "13    98.0  93.883286\n",
       "14    96.0  94.334597\n",
       "15    96.0  94.026157\n",
       "16    94.0  94.494826\n",
       "17    99.0  93.992776\n",
       "18   100.0  93.919338\n",
       "19    90.0  93.986100\n",
       "20    96.0  94.437411\n",
       "21    96.0  95.034263\n",
       "22    96.0  93.966071\n",
       "23    94.0  93.999452\n",
       "24   100.0  94.072890\n",
       "25    97.0  93.924679\n",
       "26    50.0  94.251812\n",
       "27    95.0  95.034263\n",
       "28    97.0  94.179709\n",
       "29    90.0  94.099595"
      ]
     },
     "execution_count": 56,
     "metadata": {},
     "output_type": "execute_result"
    }
   ],
   "source": [
    "# Create a dataframe comparing the actual and predicted values of y.\n",
    "\n",
    "data1 = pd.DataFrame({'Actual': y1_test.flatten(), 'Predicted': y1_predicted.flatten()})\n",
    "data1.head(30)"
   ]
  },
  {
   "cell_type": "markdown",
   "id": "4b2dcab7",
   "metadata": {},
   "source": [
    "Fitting regression to training set"
   ]
  },
  {
   "cell_type": "code",
   "execution_count": 57,
   "id": "1120f42c",
   "metadata": {},
   "outputs": [],
   "source": [
    "# Predict. This is predicting X_train\n",
    "\n",
    "y1_predicted_train = regression.predict(X1_train) "
   ]
  },
  {
   "cell_type": "code",
   "execution_count": 60,
   "id": "fa232d44",
   "metadata": {},
   "outputs": [],
   "source": [
    "rmse1 = mean_squared_error(y1_train, y1_predicted_train)\n",
    "r2 = r2_score(y1_train, y1_predicted_train)"
   ]
  },
  {
   "cell_type": "code",
   "execution_count": 61,
   "id": "f674b552",
   "metadata": {},
   "outputs": [
    {
     "name": "stdout",
     "output_type": "stream",
     "text": [
      "Slope: [[0.00133524]]\n",
      "Mean squared error:  71.17497892893675\n",
      "R2 score:  0.0012565353289654135\n"
     ]
    }
   ],
   "source": [
    "print('Slope:' ,regression.coef_)\n",
    "print('Mean squared error: ', rmse1)\n",
    "print('R2 score: ', r2)"
   ]
  },
  {
   "cell_type": "code",
   "execution_count": 62,
   "id": "b2eee22f",
   "metadata": {},
   "outputs": [
    {
     "data": {
      "image/png": "[encoded data removed]",
      "text/plain": [
       "<Figure size 432x288 with 1 Axes>"
      ]
     },
     "metadata": {
      "needs_background": "light"
     },
     "output_type": "display_data"
    }
   ],
   "source": [
    "# Visualizing the training set results.\n",
    "\n",
    "plot_test = plt\n",
    "plot_test.scatter(X1_train, y1_train, color='green', s = 15)\n",
    "plot_test.plot(X1_train, y1_predicted_train, color='red', linewidth =3)\n",
    "plot_test.title('Total rating Review Scores vs Price (Test set)')\n",
    "plot_test.xlabel('Price')\n",
    "plot_test.ylabel('Rating Review Scores')\n",
    "plot_test.show()"
   ]
  },
  {
   "cell_type": "markdown",
   "id": "e5b60281",
   "metadata": {},
   "source": [
    "Reflections"
   ]
  },
  {
   "cell_type": "markdown",
   "id": "7bf23b71",
   "metadata": {},
   "source": [
    "Regression analysis of the cumulative review score with price reveal similar findings to the previous analysis. The slope is basically flat. The RMSE is high with a score of 71.2. Looking at the predicted values of 'y' it is evident that the model consistently picks values in the 90s. A R2 score of 0.001 means that this model is not advanced enough to predict review scores based on price or there are better factors to base our predictions."
   ]
  }
 ],
 "metadata": {
  "kernelspec": {
   "display_name": "Python 3",
   "language": "python",
   "name": "python3"
  },
  "language_info": {
   "codemirror_mode": {
    "name": "ipython",
    "version": 3
   },
   "file_extension": ".py",
   "mimetype": "text/x-python",
   "name": "python",
   "nbconvert_exporter": "python",
   "pygments_lexer": "ipython3",
   "version": "3.8.8"
  }
 },
 "nbformat": 4,
 "nbformat_minor": 5
}
